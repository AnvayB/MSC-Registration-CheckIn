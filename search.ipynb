{
 "cells": [
  {
   "cell_type": "code",
   "execution_count": 1,
   "metadata": {},
   "outputs": [],
   "source": [
    "import pandas as pd"
   ]
  },
  {
   "cell_type": "code",
   "execution_count": 2,
   "metadata": {},
   "outputs": [],
   "source": [
    "people = pd.read_csv('./data/participants_cleaned.csv')"
   ]
  },
  {
   "cell_type": "code",
   "execution_count": 5,
   "metadata": {},
   "outputs": [
    {
     "name": "stdout",
     "output_type": "stream",
     "text": [
      "Number of duplicate family IDs 2\n",
      "\n",
      "Details:\n",
      "\n",
      "Family ID 32:\n",
      "  yeomanly@gmail.com\n",
      "  adandekar00@gmail.com\n",
      "\n",
      "Family ID 37:\n",
      "  bela.pandya@cmsj.org\n",
      "  ajitab1000@gmail.com\n"
     ]
    }
   ],
   "source": [
    "# Group by Family ID and count unique email addresses\n",
    "duplicate_families = people.groupby('Family ID')['Email'].nunique()\n",
    "\n",
    "# Filter to only those with multiple email addresses\n",
    "multiple_emails = duplicate_families[duplicate_families > 1]\n",
    "\n",
    "print(f\"Number of duplicate family IDs {len(multiple_emails)}\")\n",
    "print(\"\\nDetails:\")\n",
    "for family_id in multiple_emails.index:\n",
    "    emails = people[people['Family ID'] == family_id]['Email'].unique()\n",
    "    print(f\"\\nFamily ID {family_id}:\")\n",
    "    for email in emails:\n",
    "        print(f\"  {email}\")\n"
   ]
  },
  {
   "cell_type": "code",
   "execution_count": 6,
   "metadata": {},
   "outputs": [
    {
     "name": "stdout",
     "output_type": "stream",
     "text": [
      "\n",
      "Distinct Age Groups:\n",
      "- Adult\n",
      "- CHYK Non-working\n",
      "- CHYK Working\n",
      "- Child\n",
      "- Infant/ShishuVihar\n"
     ]
    }
   ],
   "source": [
    "# Get unique values in the Age Group column\n",
    "age_groups = people['Age Group'].unique()\n",
    "print(\"\\nDistinct Age Groups:\")\n",
    "for age in sorted(age_groups):\n",
    "    print(f\"- {age}\")\n"
   ]
  },
  {
   "cell_type": "code",
   "execution_count": 7,
   "metadata": {},
   "outputs": [
    {
     "name": "stdout",
     "output_type": "stream",
     "text": [
      "Spaces removed from names and file saved\n"
     ]
    }
   ],
   "source": [
    "# Remove trailing spaces from first and last names\n",
    "people['Participants.name.first'] = people['Participants.name.first'].str.strip()\n",
    "people['Participants.name.last'] = people['Participants.name.last'].str.strip()\n",
    "people['ContactName.first'] = people['ContactName.first'].str.strip() \n",
    "people['ContactName.last'] = people['ContactName.last'].str.strip()\n",
    "\n",
    "# Save back to CSV\n",
    "people.to_csv('./data/participants_cleaned.csv', index=False)\n",
    "\n",
    "print(\"Spaces removed from names and file saved\")\n"
   ]
  },
  {
   "cell_type": "code",
   "execution_count": null,
   "metadata": {},
   "outputs": [],
   "source": []
  }
 ],
 "metadata": {
  "kernelspec": {
   "display_name": "base",
   "language": "python",
   "name": "python3"
  },
  "language_info": {
   "codemirror_mode": {
    "name": "ipython",
    "version": 3
   },
   "file_extension": ".py",
   "mimetype": "text/x-python",
   "name": "python",
   "nbconvert_exporter": "python",
   "pygments_lexer": "ipython3",
   "version": "3.12.4"
  }
 },
 "nbformat": 4,
 "nbformat_minor": 2
}
